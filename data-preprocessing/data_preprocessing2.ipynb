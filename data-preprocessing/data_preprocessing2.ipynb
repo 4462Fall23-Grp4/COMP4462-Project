{
 "cells": [
  {
   "cell_type": "markdown",
   "metadata": {},
   "source": [
    "# Data preprocessing (by Elton)"
   ]
  },
  {
   "cell_type": "markdown",
   "metadata": {},
   "source": [
    "## Obtain all the coauthor details w/ organization location"
   ]
  },
  {
   "cell_type": "code",
   "execution_count": 1,
   "metadata": {},
   "outputs": [],
   "source": [
    "import numpy as np\n",
    "import pandas as pd\n",
    "from scholarly import scholarly\n",
    "import json\n",
    "import csv\n",
    "from selenium import webdriver\n",
    "import time\n",
    "from tqdm import tqdm"
   ]
  },
  {
   "cell_type": "code",
   "execution_count": 2,
   "metadata": {},
   "outputs": [],
   "source": [
    "df = pd.read_pickle(\"./cse_gs.pkl\")"
   ]
  },
  {
   "cell_type": "code",
   "execution_count": 3,
   "metadata": {},
   "outputs": [],
   "source": [
    "coauthor_list = []\n",
    "for i in range(51):\n",
    "    for n in df.iloc[i]['coauthors']:\n",
    "        coauthor_list.append(n['scholar_id'])"
   ]
  },
  {
   "cell_type": "code",
   "execution_count": 4,
   "metadata": {},
   "outputs": [
    {
     "data": {
      "text/plain": [
       "1263"
      ]
     },
     "execution_count": 4,
     "metadata": {},
     "output_type": "execute_result"
    }
   ],
   "source": [
    "coauthor_list = list(set(coauthor_list))\n",
    "len(coauthor_list)"
   ]
  },
  {
   "cell_type": "code",
   "execution_count": 5,
   "metadata": {},
   "outputs": [],
   "source": [
    "coauthor_list_details = []"
   ]
  },
  {
   "cell_type": "code",
   "execution_count": 19,
   "metadata": {},
   "outputs": [],
   "source": [
    "# Select wither one.\n",
    "# The web scrapping should takes more than 3 hours for avoiding Google blocking it\n",
    "\n",
    "# for i, author_id in enumerate(tqdm(coauthor_list)):\n",
    "#     coauthor_list_details.append(scholarly.fill(scholarly.search_author_id(author_id), sections=['basics']))\n",
    "#     time.sleep(7) \n",
    "#     if i % 2 == 0:\n",
    "#         with open('./backup_data/all_coauthor_details.json', 'w') as f:\n",
    "#             json.dump(coauthor_list_details, f, indent=4)\n",
    "\n",
    "f = open('./backup_data/all_coauthor_details.json')\n",
    "coauthor_list_details = json.load(f)"
   ]
  },
  {
   "cell_type": "code",
   "execution_count": 20,
   "metadata": {},
   "outputs": [],
   "source": [
    "copy_coauthor_list_details = [\n",
    "    dict([key, str(value)] for key, value in dicts.items()) for dicts in coauthor_list_details\n",
    "]"
   ]
  },
  {
   "cell_type": "code",
   "execution_count": 21,
   "metadata": {},
   "outputs": [],
   "source": [
    "coauthor_detail = pd.DataFrame.from_dict(copy_coauthor_list_details)"
   ]
  },
  {
   "cell_type": "code",
   "execution_count": 22,
   "metadata": {},
   "outputs": [
    {
     "data": {
      "text/html": [
       "<div>\n",
       "<style scoped>\n",
       "    .dataframe tbody tr th:only-of-type {\n",
       "        vertical-align: middle;\n",
       "    }\n",
       "\n",
       "    .dataframe tbody tr th {\n",
       "        vertical-align: top;\n",
       "    }\n",
       "\n",
       "    .dataframe thead th {\n",
       "        text-align: right;\n",
       "    }\n",
       "</style>\n",
       "<table border=\"1\" class=\"dataframe\">\n",
       "  <thead>\n",
       "    <tr style=\"text-align: right;\">\n",
       "      <th></th>\n",
       "      <th>container_type</th>\n",
       "      <th>filled</th>\n",
       "      <th>scholar_id</th>\n",
       "      <th>source</th>\n",
       "      <th>name</th>\n",
       "      <th>url_picture</th>\n",
       "      <th>affiliation</th>\n",
       "      <th>interests</th>\n",
       "      <th>email_domain</th>\n",
       "      <th>homepage</th>\n",
       "      <th>citedby</th>\n",
       "      <th>organization</th>\n",
       "    </tr>\n",
       "  </thead>\n",
       "  <tbody>\n",
       "    <tr>\n",
       "      <th>0</th>\n",
       "      <td>Author</td>\n",
       "      <td>['basics']</td>\n",
       "      <td>9hwXx34AAAAJ</td>\n",
       "      <td>AUTHOR_PROFILE_PAGE</td>\n",
       "      <td>Ahmed E. Hassan</td>\n",
       "      <td>https://scholar.googleusercontent.com/citation...</td>\n",
       "      <td>Mustafa Prize Laureate, ACM/IEEE/NSERC Steacie...</td>\n",
       "      <td>['Mining Software Repositories', 'Software Ana...</td>\n",
       "      <td>@cs.queensu.ca</td>\n",
       "      <td>http://sail.cs.queensu.ca/</td>\n",
       "      <td>32995</td>\n",
       "      <td>NaN</td>\n",
       "    </tr>\n",
       "    <tr>\n",
       "      <th>1</th>\n",
       "      <td>Author</td>\n",
       "      <td>['basics']</td>\n",
       "      <td>DnnCWN0AAAAJ</td>\n",
       "      <td>AUTHOR_PROFILE_PAGE</td>\n",
       "      <td>Christopher Ré</td>\n",
       "      <td>https://scholar.googleusercontent.com/citation...</td>\n",
       "      <td>Computer Science, Stanford University</td>\n",
       "      <td>['machine learning', 'machine learning systems...</td>\n",
       "      <td>@cs.stanford.edu</td>\n",
       "      <td>http://cs.stanford.edu/people/chrismre/</td>\n",
       "      <td>30244</td>\n",
       "      <td>8539678734835078480</td>\n",
       "    </tr>\n",
       "    <tr>\n",
       "      <th>2</th>\n",
       "      <td>Author</td>\n",
       "      <td>['basics']</td>\n",
       "      <td>BYm7qHAAAAAJ</td>\n",
       "      <td>AUTHOR_PROFILE_PAGE</td>\n",
       "      <td>Jaechang Nam</td>\n",
       "      <td>https://scholar.googleusercontent.com/citation...</td>\n",
       "      <td>Handong Global University</td>\n",
       "      <td>['Software Quality', 'Software Defect Predicti...</td>\n",
       "      <td>@handong.edu</td>\n",
       "      <td>http://lifove.github.io/</td>\n",
       "      <td>2922</td>\n",
       "      <td>NaN</td>\n",
       "    </tr>\n",
       "    <tr>\n",
       "      <th>3</th>\n",
       "      <td>Author</td>\n",
       "      <td>['basics']</td>\n",
       "      <td>YG0DFyYAAAAJ</td>\n",
       "      <td>AUTHOR_PROFILE_PAGE</td>\n",
       "      <td>Hanwang Zhang (张含望）</td>\n",
       "      <td>https://scholar.googleusercontent.com/citation...</td>\n",
       "      <td>Associate Professor, SCSE, Nanyang Technologic...</td>\n",
       "      <td>['Computer Vision', 'Causality', 'Machine Lear...</td>\n",
       "      <td>@ntu.edu.sg</td>\n",
       "      <td>https://mreallab.github.io/index.html</td>\n",
       "      <td>23357</td>\n",
       "      <td>3012140508424117850</td>\n",
       "    </tr>\n",
       "    <tr>\n",
       "      <th>4</th>\n",
       "      <td>Author</td>\n",
       "      <td>['basics']</td>\n",
       "      <td>SKVnHakAAAAJ</td>\n",
       "      <td>AUTHOR_PROFILE_PAGE</td>\n",
       "      <td>H. V. Jagadish</td>\n",
       "      <td>NaN</td>\n",
       "      <td>University of Michigan</td>\n",
       "      <td>[]</td>\n",
       "      <td>@umich.edu</td>\n",
       "      <td>NaN</td>\n",
       "      <td>45821</td>\n",
       "      <td>4770128543809686866</td>\n",
       "    </tr>\n",
       "  </tbody>\n",
       "</table>\n",
       "</div>"
      ],
      "text/plain": [
       "  container_type      filled    scholar_id               source  \\\n",
       "0         Author  ['basics']  9hwXx34AAAAJ  AUTHOR_PROFILE_PAGE   \n",
       "1         Author  ['basics']  DnnCWN0AAAAJ  AUTHOR_PROFILE_PAGE   \n",
       "2         Author  ['basics']  BYm7qHAAAAAJ  AUTHOR_PROFILE_PAGE   \n",
       "3         Author  ['basics']  YG0DFyYAAAAJ  AUTHOR_PROFILE_PAGE   \n",
       "4         Author  ['basics']  SKVnHakAAAAJ  AUTHOR_PROFILE_PAGE   \n",
       "\n",
       "                  name                                        url_picture  \\\n",
       "0      Ahmed E. Hassan  https://scholar.googleusercontent.com/citation...   \n",
       "1       Christopher Ré  https://scholar.googleusercontent.com/citation...   \n",
       "2         Jaechang Nam  https://scholar.googleusercontent.com/citation...   \n",
       "3  Hanwang Zhang (张含望）  https://scholar.googleusercontent.com/citation...   \n",
       "4       H. V. Jagadish                                                NaN   \n",
       "\n",
       "                                         affiliation  \\\n",
       "0  Mustafa Prize Laureate, ACM/IEEE/NSERC Steacie...   \n",
       "1              Computer Science, Stanford University   \n",
       "2                          Handong Global University   \n",
       "3  Associate Professor, SCSE, Nanyang Technologic...   \n",
       "4                             University of Michigan   \n",
       "\n",
       "                                           interests      email_domain  \\\n",
       "0  ['Mining Software Repositories', 'Software Ana...    @cs.queensu.ca   \n",
       "1  ['machine learning', 'machine learning systems...  @cs.stanford.edu   \n",
       "2  ['Software Quality', 'Software Defect Predicti...      @handong.edu   \n",
       "3  ['Computer Vision', 'Causality', 'Machine Lear...       @ntu.edu.sg   \n",
       "4                                                 []        @umich.edu   \n",
       "\n",
       "                                  homepage citedby         organization  \n",
       "0               http://sail.cs.queensu.ca/   32995                  NaN  \n",
       "1  http://cs.stanford.edu/people/chrismre/   30244  8539678734835078480  \n",
       "2                 http://lifove.github.io/    2922                  NaN  \n",
       "3    https://mreallab.github.io/index.html   23357  3012140508424117850  \n",
       "4                                      NaN   45821  4770128543809686866  "
      ]
     },
     "execution_count": 22,
     "metadata": {},
     "output_type": "execute_result"
    }
   ],
   "source": [
    "coauthor_detail.head()"
   ]
  },
  {
   "cell_type": "markdown",
   "metadata": {},
   "source": [
    "## Find unique Org ID"
   ]
  },
  {
   "cell_type": "code",
   "execution_count": 23,
   "metadata": {},
   "outputs": [],
   "source": [
    "unique_organizationID = [ x['organization'] for x in coauthor_list_details if 'organization' in x]"
   ]
  },
  {
   "cell_type": "code",
   "execution_count": 24,
   "metadata": {},
   "outputs": [],
   "source": [
    "unique_organizationID = list(set(unique_organizationID))"
   ]
  },
  {
   "cell_type": "code",
   "execution_count": 25,
   "metadata": {},
   "outputs": [
    {
     "data": {
      "text/plain": [
       "299"
      ]
     },
     "execution_count": 25,
     "metadata": {},
     "output_type": "execute_result"
    }
   ],
   "source": [
    "len(unique_organizationID)"
   ]
  },
  {
   "cell_type": "code",
   "execution_count": 27,
   "metadata": {},
   "outputs": [],
   "source": [
    "# Pick either one\n",
    "\n",
    "# scrap_org_id_name=[]\n",
    "# driver = webdriver.Chrome()\n",
    "# for i, id in enumerate(tqdm(unique_organizationID)):\n",
    "#     print(\"Opening a page\")\n",
    "#     driver.get(f'https://scholar.google.com.hk/citations?view_op=view_org&hl=en&org={id}')\n",
    "\n",
    "#     time.sleep(5) # Prevent blocking\n",
    "#     org_name = driver.find_element_by_class_name('gsc_authors_header')\n",
    "    \n",
    "#     scrap_org_id_name.append({\"id\": id, \"name\": org_name.text[:-11]})\n",
    "#     print(org_name.text[:-11])\n",
    "\n",
    "#     if i % 2 == 0:\n",
    "#         with open('./backup_data/scrap_org_map.json', 'w') as f:\n",
    "#             json.dump(scrap_org_id_name, f, indent=4)\n",
    "# driver.quit()\n",
    "\n",
    "f = open('./backup_data/scrap_org_map.json')\n",
    "scrap_org_id_name = json.load(f)"
   ]
  },
  {
   "cell_type": "code",
   "execution_count": 29,
   "metadata": {},
   "outputs": [],
   "source": [
    "# csv from 4462 lab material\n",
    "uni_country_df = pd.read_csv('./university_countries.csv')"
   ]
  },
  {
   "cell_type": "code",
   "execution_count": 30,
   "metadata": {},
   "outputs": [],
   "source": [
    "for dicts in scrap_org_id_name:\n",
    "    if dicts['name'] in uni_country_df['Institution'].values:\n",
    "        dicts['map'] = True\n",
    "        dicts['country'] = uni_country_df.loc[uni_country_df['Institution'] == dicts['name']]['Country'].values[0]\n",
    "    else:\n",
    "        dicts['map'] = False\n",
    "        dicts['country'] = \"\""
   ]
  },
  {
   "cell_type": "code",
   "execution_count": 32,
   "metadata": {},
   "outputs": [
    {
     "data": {
      "text/plain": [
       "{'id': 6818723143689148416,\n",
       " 'name': 'Philipps-Universität Marburg',\n",
       " 'map': False,\n",
       " 'country': ''}"
      ]
     },
     "execution_count": 32,
     "metadata": {},
     "output_type": "execute_result"
    }
   ],
   "source": [
    "# key 'map' == False means the mapping to the university_countries failed\n",
    "# You need to manually map it ur own\n",
    "scrap_org_id_name[0]"
   ]
  },
  {
   "cell_type": "code",
   "execution_count": 41,
   "metadata": {},
   "outputs": [],
   "source": [
    "with open('./backup_data/mapped_org.json', 'w') as f:\n",
    "    json.dump(scrap_org_id_name, f, indent=4)"
   ]
  },
  {
   "cell_type": "code",
   "execution_count": 43,
   "metadata": {},
   "outputs": [],
   "source": [
    "# We have manually filled in the missing country in the above part at 'mapped_org_complete.json\n",
    "all_coauthor_df = coauthor_detail\n",
    "all_org_df = pd.read_json('./backup_data/mapped_org_complete.json')"
   ]
  },
  {
   "cell_type": "code",
   "execution_count": 73,
   "metadata": {},
   "outputs": [],
   "source": [
    "def get_org_name(x):\n",
    "    if pd.isna(x):\n",
    "        return np.nan\n",
    "    if int(x) in all_org_df['id'].values:\n",
    "        row = all_org_df.loc[all_org_df['id'] == int(x)]\n",
    "        return row['name'].values[0]\n",
    "    else:\n",
    "        return np.nan\n",
    "\n",
    "def get_org_country(x):\n",
    "    if pd.isna(x):\n",
    "        return np.nan\n",
    "    if int(x) in all_org_df['id'].values:\n",
    "        row = all_org_df.loc[all_org_df['id'] == int(x)]\n",
    "        return row['country'].values[0]\n",
    "    else:\n",
    "        return np.nan"
   ]
  },
  {
   "cell_type": "code",
   "execution_count": 74,
   "metadata": {},
   "outputs": [],
   "source": [
    "all_coauthor_df['org_name'] = all_coauthor_df['organization'].apply(get_org_name)\n",
    "all_coauthor_df['org_country'] = all_coauthor_df['organization'].apply(get_org_country)"
   ]
  },
  {
   "cell_type": "code",
   "execution_count": 77,
   "metadata": {},
   "outputs": [
    {
     "data": {
      "text/html": [
       "<div>\n",
       "<style scoped>\n",
       "    .dataframe tbody tr th:only-of-type {\n",
       "        vertical-align: middle;\n",
       "    }\n",
       "\n",
       "    .dataframe tbody tr th {\n",
       "        vertical-align: top;\n",
       "    }\n",
       "\n",
       "    .dataframe thead th {\n",
       "        text-align: right;\n",
       "    }\n",
       "</style>\n",
       "<table border=\"1\" class=\"dataframe\">\n",
       "  <thead>\n",
       "    <tr style=\"text-align: right;\">\n",
       "      <th></th>\n",
       "      <th>container_type</th>\n",
       "      <th>filled</th>\n",
       "      <th>scholar_id</th>\n",
       "      <th>source</th>\n",
       "      <th>name</th>\n",
       "      <th>url_picture</th>\n",
       "      <th>affiliation</th>\n",
       "      <th>interests</th>\n",
       "      <th>email_domain</th>\n",
       "      <th>homepage</th>\n",
       "      <th>citedby</th>\n",
       "      <th>organization</th>\n",
       "      <th>org_name</th>\n",
       "      <th>org_country</th>\n",
       "    </tr>\n",
       "  </thead>\n",
       "  <tbody>\n",
       "    <tr>\n",
       "      <th>0</th>\n",
       "      <td>Author</td>\n",
       "      <td>['basics']</td>\n",
       "      <td>9hwXx34AAAAJ</td>\n",
       "      <td>AUTHOR_PROFILE_PAGE</td>\n",
       "      <td>Ahmed E. Hassan</td>\n",
       "      <td>https://scholar.googleusercontent.com/citation...</td>\n",
       "      <td>Mustafa Prize Laureate, ACM/IEEE/NSERC Steacie...</td>\n",
       "      <td>['Mining Software Repositories', 'Software Ana...</td>\n",
       "      <td>@cs.queensu.ca</td>\n",
       "      <td>http://sail.cs.queensu.ca/</td>\n",
       "      <td>32995</td>\n",
       "      <td>NaN</td>\n",
       "      <td>NaN</td>\n",
       "      <td>NaN</td>\n",
       "    </tr>\n",
       "    <tr>\n",
       "      <th>1</th>\n",
       "      <td>Author</td>\n",
       "      <td>['basics']</td>\n",
       "      <td>DnnCWN0AAAAJ</td>\n",
       "      <td>AUTHOR_PROFILE_PAGE</td>\n",
       "      <td>Christopher Ré</td>\n",
       "      <td>https://scholar.googleusercontent.com/citation...</td>\n",
       "      <td>Computer Science, Stanford University</td>\n",
       "      <td>['machine learning', 'machine learning systems...</td>\n",
       "      <td>@cs.stanford.edu</td>\n",
       "      <td>http://cs.stanford.edu/people/chrismre/</td>\n",
       "      <td>30244</td>\n",
       "      <td>8539678734835078480</td>\n",
       "      <td>Stanford University</td>\n",
       "      <td>USA</td>\n",
       "    </tr>\n",
       "    <tr>\n",
       "      <th>2</th>\n",
       "      <td>Author</td>\n",
       "      <td>['basics']</td>\n",
       "      <td>BYm7qHAAAAAJ</td>\n",
       "      <td>AUTHOR_PROFILE_PAGE</td>\n",
       "      <td>Jaechang Nam</td>\n",
       "      <td>https://scholar.googleusercontent.com/citation...</td>\n",
       "      <td>Handong Global University</td>\n",
       "      <td>['Software Quality', 'Software Defect Predicti...</td>\n",
       "      <td>@handong.edu</td>\n",
       "      <td>http://lifove.github.io/</td>\n",
       "      <td>2922</td>\n",
       "      <td>NaN</td>\n",
       "      <td>NaN</td>\n",
       "      <td>NaN</td>\n",
       "    </tr>\n",
       "  </tbody>\n",
       "</table>\n",
       "</div>"
      ],
      "text/plain": [
       "  container_type      filled    scholar_id               source  \\\n",
       "0         Author  ['basics']  9hwXx34AAAAJ  AUTHOR_PROFILE_PAGE   \n",
       "1         Author  ['basics']  DnnCWN0AAAAJ  AUTHOR_PROFILE_PAGE   \n",
       "2         Author  ['basics']  BYm7qHAAAAAJ  AUTHOR_PROFILE_PAGE   \n",
       "\n",
       "              name                                        url_picture  \\\n",
       "0  Ahmed E. Hassan  https://scholar.googleusercontent.com/citation...   \n",
       "1   Christopher Ré  https://scholar.googleusercontent.com/citation...   \n",
       "2     Jaechang Nam  https://scholar.googleusercontent.com/citation...   \n",
       "\n",
       "                                         affiliation  \\\n",
       "0  Mustafa Prize Laureate, ACM/IEEE/NSERC Steacie...   \n",
       "1              Computer Science, Stanford University   \n",
       "2                          Handong Global University   \n",
       "\n",
       "                                           interests      email_domain  \\\n",
       "0  ['Mining Software Repositories', 'Software Ana...    @cs.queensu.ca   \n",
       "1  ['machine learning', 'machine learning systems...  @cs.stanford.edu   \n",
       "2  ['Software Quality', 'Software Defect Predicti...      @handong.edu   \n",
       "\n",
       "                                  homepage citedby         organization  \\\n",
       "0               http://sail.cs.queensu.ca/   32995                  NaN   \n",
       "1  http://cs.stanford.edu/people/chrismre/   30244  8539678734835078480   \n",
       "2                 http://lifove.github.io/    2922                  NaN   \n",
       "\n",
       "              org_name org_country  \n",
       "0                  NaN         NaN  \n",
       "1  Stanford University         USA  \n",
       "2                  NaN         NaN  "
      ]
     },
     "execution_count": 77,
     "metadata": {},
     "output_type": "execute_result"
    }
   ],
   "source": [
    "all_coauthor_df.head(3)"
   ]
  },
  {
   "cell_type": "code",
   "execution_count": 78,
   "metadata": {},
   "outputs": [],
   "source": [
    "all_coauthor_df.to_csv('all_coauthor_details.csv')"
   ]
  },
  {
   "cell_type": "markdown",
   "metadata": {},
   "source": [
    "note: the author_interest.json for the chord data is scrap and make manually"
   ]
  }
 ],
 "metadata": {
  "kernelspec": {
   "display_name": "4462",
   "language": "python",
   "name": "python3"
  },
  "language_info": {
   "codemirror_mode": {
    "name": "ipython",
    "version": 3
   },
   "file_extension": ".py",
   "mimetype": "text/x-python",
   "name": "python",
   "nbconvert_exporter": "python",
   "pygments_lexer": "ipython3",
   "version": "3.12.0"
  }
 },
 "nbformat": 4,
 "nbformat_minor": 2
}
